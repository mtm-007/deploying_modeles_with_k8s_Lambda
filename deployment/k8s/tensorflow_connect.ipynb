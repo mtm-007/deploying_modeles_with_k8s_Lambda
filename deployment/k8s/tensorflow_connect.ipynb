{
 "cells": [
  {
   "cell_type": "code",
   "execution_count": 2,
   "id": "23471b76-ec52-4164-8995-8f146001a148",
   "metadata": {},
   "outputs": [
    {
     "data": {
      "application/javascript": [
       "IPython.notebook.set_autosave_interval(0)"
      ]
     },
     "metadata": {},
     "output_type": "display_data"
    },
    {
     "name": "stdout",
     "output_type": "stream",
     "text": [
      "Autosave disabled\n"
     ]
    }
   ],
   "source": [
    "%autosave 0"
   ]
  },
  {
   "cell_type": "code",
   "execution_count": null,
   "id": "9079ac0c-e9bf-4a5b-96d8-6020441c58db",
   "metadata": {},
   "outputs": [],
   "source": [
    "!pip install grpcio==1.42.0 tensorflow-serving-api==2.7.0"
   ]
  },
  {
   "cell_type": "code",
   "execution_count": null,
   "id": "06fbb465-413e-47ed-8236-afec27fce2f0",
   "metadata": {},
   "outputs": [],
   "source": [
    "!pip install keras-image-helper"
   ]
  },
  {
   "cell_type": "code",
   "execution_count": 6,
   "id": "88b4d2c3-8d79-4b54-9f48-d701f0450bfd",
   "metadata": {},
   "outputs": [],
   "source": [
    "import grpc\n",
    "\n",
    "import tensorflow as tf\n",
    "from tensorflow_serving.apis import predict_pb2\n",
    "from tensorflow_serving.apis import prediction_service_pb2_grpc"
   ]
  },
  {
   "cell_type": "code",
   "execution_count": 7,
   "id": "778a9aef-5428-466f-b924-b43ba5925e96",
   "metadata": {},
   "outputs": [],
   "source": [
    "host = 'localhost:8500'\n",
    "channel = grpc.insecure_channel(host)\n",
    "stub = prediction_service_pb2_grpc.PredictionServiceStub(channel)"
   ]
  },
  {
   "cell_type": "code",
   "execution_count": 10,
   "id": "2e20ef06-94a9-4de8-b617-1275fcd52dd8",
   "metadata": {},
   "outputs": [],
   "source": [
    "from keras_image_helper import create_preprocessor"
   ]
  },
  {
   "cell_type": "code",
   "execution_count": 11,
   "id": "908d7550-91e8-4e5e-a92f-169503002ea7",
   "metadata": {},
   "outputs": [],
   "source": [
    "preprocessor = create_preprocessor('xception', target_size=(299,299))"
   ]
  },
  {
   "cell_type": "code",
   "execution_count": 9,
   "id": "f5d67375-159e-442c-9172-4404ab7b2185",
   "metadata": {},
   "outputs": [],
   "source": [
    "url ='http://bit.ly/mlbookcamp-pants'"
   ]
  },
  {
   "cell_type": "code",
   "execution_count": 16,
   "id": "64ef173e-edbd-476e-94bd-4577faaf1742",
   "metadata": {},
   "outputs": [],
   "source": [
    "X = preprocessor.from_url(url)"
   ]
  },
  {
   "cell_type": "code",
   "execution_count": 17,
   "id": "b7d6961a-f76f-40e1-a7b3-b2fe5dd3806f",
   "metadata": {},
   "outputs": [],
   "source": [
    "def np_to_protobuf(data):\n",
    "    return tf.make_tensor_proto(data, shape= data.shape)"
   ]
  },
  {
   "cell_type": "code",
   "execution_count": 21,
   "id": "192d7c08-ea4a-4e3c-9389-648d90454975",
   "metadata": {},
   "outputs": [],
   "source": [
    "pb_request = predict_pb2.PredictRequest()\n",
    "\n",
    "pb_request.model_spec.name = 'clothing-model'\n",
    "pb_request.model_spec.signature_name = 'serving_default'\n",
    "pb_request.inputs['input_2'].CopyFrom(np_to_protobuf(X))"
   ]
  },
  {
   "cell_type": "code",
   "execution_count": 23,
   "id": "a0615679-d9a0-45cf-9069-fd7689c6410a",
   "metadata": {},
   "outputs": [],
   "source": [
    "pb_response = stub.Predict(pb_request,timeout=20.0)"
   ]
  },
  {
   "cell_type": "code",
   "execution_count": 26,
   "id": "eb5bd2a8-e5ce-4cf2-ac19-42cef840ca03",
   "metadata": {},
   "outputs": [],
   "source": [
    "preds = pb_response.outputs['dense_1'].float_val"
   ]
  },
  {
   "cell_type": "code",
   "execution_count": 27,
   "id": "191eb952-e4d7-4bc3-97a3-c2f09d901e65",
   "metadata": {},
   "outputs": [],
   "source": [
    "classes = [\n",
    "    'dress',\n",
    "     'hat',\n",
    "     'longsleeve',\n",
    "     'outwear',\n",
    "     'pants',\n",
    "     'shirt',\n",
    "     'shoes',\n",
    "     'shorts',\n",
    "     'skirt',\n",
    "     't-shirt',]"
   ]
  },
  {
   "cell_type": "code",
   "execution_count": 28,
   "id": "5ff8c327-2173-48eb-8fc8-535d05e0fc29",
   "metadata": {},
   "outputs": [
    {
     "data": {
      "text/plain": [
       "{'dress': -3.324326276779175,\n",
       " 'hat': -6.603317737579346,\n",
       " 'longsleeve': -2.716560125350952,\n",
       " 'outwear': -3.733776807785034,\n",
       " 'pants': 10.822230339050293,\n",
       " 'shirt': -2.882204294204712,\n",
       " 'shoes': -5.1022138595581055,\n",
       " 'shorts': 2.5007410049438477,\n",
       " 'skirt': -5.319211483001709,\n",
       " 't-shirt': -6.669097423553467}"
      ]
     },
     "execution_count": 28,
     "metadata": {},
     "output_type": "execute_result"
    }
   ],
   "source": [
    "dict(zip(classes, preds))"
   ]
  },
  {
   "cell_type": "code",
   "execution_count": null,
   "id": "954d2db9-0cf1-43b7-a198-9765f7e7a0d2",
   "metadata": {},
   "outputs": [],
   "source": []
  }
 ],
 "metadata": {
  "kernelspec": {
   "display_name": "Python 3 (ipykernel)",
   "language": "python",
   "name": "python3"
  },
  "language_info": {
   "codemirror_mode": {
    "name": "ipython",
    "version": 3
   },
   "file_extension": ".py",
   "mimetype": "text/x-python",
   "name": "python",
   "nbconvert_exporter": "python",
   "pygments_lexer": "ipython3",
   "version": "3.9.0"
  }
 },
 "nbformat": 4,
 "nbformat_minor": 5
}
