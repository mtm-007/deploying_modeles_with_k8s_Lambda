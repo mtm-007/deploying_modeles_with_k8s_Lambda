{
 "cells": [
  {
   "cell_type": "code",
   "execution_count": null,
   "id": "0498f838-60d0-4e1e-8682-ee95cde93816",
   "metadata": {},
   "outputs": [],
   "source": [
    "import numpy as np\n",
    "import pandas as pd\n",
    "import matplotlib.pyplot as plt\n",
    "\n",
    "from PIL import Image\n",
    "import tensorflow as tf\n",
    "from tensorflow import keras\n",
    "from keras.preprocessing.image import ImageDataGenerator\n",
    "from tensorflow.keras.preprocessing.image import load_img\n",
    "from keras.applications.xception import Xception\n",
    "from keras.applications.xception import preprocess_input\n",
    "from keras.applications.xception import decode_predictions\n",
    "from keras.applications.xception import preprocess_input\n",
    "\n",
    "%matplotlib inline"
   ]
  },
  {
   "cell_type": "code",
   "execution_count": null,
   "id": "1ff2b203-e451-4aa3-8f8e-40d3e6e6f6e7",
   "metadata": {},
   "outputs": [],
   "source": [
    "model = keras.models.load_model(\"xception_v5.1_bigger_06_0.880.h5\")"
   ]
  },
  {
   "cell_type": "code",
   "execution_count": null,
   "id": "a68a3d72-f53e-49ed-b012-322774adffcb",
   "metadata": {},
   "outputs": [],
   "source": [
    "path = \"../test/shorts/78d2c5d2-b19d-422a-aff0-a6eb78291b4f.jpg\""
   ]
  },
  {
   "cell_type": "code",
   "execution_count": null,
   "id": "de032d10-d6ba-4c14-809f-95b1422be7de",
   "metadata": {},
   "outputs": [],
   "source": [
    "img = load_img(path, target_size=(299,299))\n",
    "img"
   ]
  },
  {
   "cell_type": "code",
   "execution_count": null,
   "id": "6f41d179-bd2f-4475-97d6-4f39226facc8",
   "metadata": {},
   "outputs": [],
   "source": [
    "X = np.array(img)\n",
    "X = np.array([X])\n",
    "\n",
    "X = preprocess_input(X)\n",
    "X.shape"
   ]
  },
  {
   "cell_type": "code",
   "execution_count": null,
   "id": "6c8c6818-0b4a-4ac7-bbb8-2e6cfd0a1140",
   "metadata": {},
   "outputs": [],
   "source": [
    "preds = model.predict(X)"
   ]
  },
  {
   "cell_type": "code",
   "execution_count": null,
   "id": "55407e88-2b60-46ce-bbac-f5093a9d4dcc",
   "metadata": {},
   "outputs": [],
   "source": [
    "preds"
   ]
  },
  {
   "cell_type": "code",
   "execution_count": null,
   "id": "0c9af150-4884-4b9c-8cef-404ae73798e2",
   "metadata": {},
   "outputs": [],
   "source": [
    "classes = [\n",
    "    'dress',\n",
    "     'hat',\n",
    "     'longsleeve',\n",
    "     'outwear',\n",
    "     'pants',\n",
    "     'shirt',\n",
    "     'shoes',\n",
    "     'shorts',\n",
    "     'skirt',\n",
    "     't-shirt',]\n",
    "\n",
    "dict(zip(classes, preds[0]))"
   ]
  },
  {
   "cell_type": "code",
   "execution_count": null,
   "id": "e7875316-b040-403f-8ff4-29e7c1d45108",
   "metadata": {},
   "outputs": [],
   "source": [
    "converter = tf.lite.TFLiteConverter.from_keras_model(model)\n",
    "tf_lite_model = converter.convert()\n",
    "\n",
    "with open(\"fashion_model.tflite\", \"wb\") as f_out:\n",
    "    f_out.write(tf_lite_model)"
   ]
  },
  {
   "cell_type": "code",
   "execution_count": null,
   "id": "6e5b0df1-9d12-4470-936f-81c387bb61ce",
   "metadata": {},
   "outputs": [],
   "source": [
    "import tensorflow.lite as tflite"
   ]
  },
  {
   "cell_type": "code",
   "execution_count": null,
   "id": "b6081a27-1f55-4026-8c9c-713f66f48584",
   "metadata": {},
   "outputs": [],
   "source": [
    "#loading model\n",
    "Interpreter = tflite.Interpreter(\"fashion_model.tflite\")\n",
    "#loading the weight from the model to memory\n",
    "Interpreter.allocate_tensors()\n",
    "\n",
    "input_index = Interpreter.get_input_details()[0]['index']\n",
    "output_index = Interpreter.get_output_details()[0]['index']"
   ]
  },
  {
   "cell_type": "code",
   "execution_count": null,
   "id": "7c8bae6c-5507-4c84-b452-606e042572df",
   "metadata": {},
   "outputs": [],
   "source": [
    "Interpreter.set_tensor(input_index, X)\n",
    "Interpreter.invoke()\n",
    "preds_1 = Interpreter.get_tensor(output_index)"
   ]
  },
  {
   "cell_type": "code",
   "execution_count": null,
   "id": "08e332a8-5f10-4dcf-8be4-f4b148bdcf4f",
   "metadata": {},
   "outputs": [],
   "source": [
    "classes = [\n",
    "    'dress',\n",
    "     'hat',\n",
    "     'longsleeve',\n",
    "     'outwear',\n",
    "     'pants',\n",
    "     'shirt',\n",
    "     'shoes',\n",
    "     'shorts',\n",
    "     'skirt',\n",
    "     't-shirt']\n",
    "\n",
    "dict(zip(classes, preds_1[0]))"
   ]
  },
  {
   "cell_type": "markdown",
   "id": "f8a4ca8b-6e7a-46dd-bf35-41beba14922d",
   "metadata": {},
   "source": [
    "## Removing all dependencies from tensorflow"
   ]
  },
  {
   "cell_type": "markdown",
   "id": "d58fdb1b-f5ef-4328-96e7-a04052c4db89",
   "metadata": {},
   "source": [
    "##### installing tensorflowlite \n",
    "pip install --extra-index-url https://google-coral.github.io./py-repo/ tflite_runtime"
   ]
  },
  {
   "cell_type": "code",
   "execution_count": 5,
   "id": "09459361-29e2-486f-ada0-891598384f09",
   "metadata": {},
   "outputs": [],
   "source": [
    "\n",
    "import tflite_runtime.interpreter as tflite\n",
    "from keras_image_helper import create_preprocessor"
   ]
  },
  {
   "cell_type": "code",
   "execution_count": 6,
   "id": "5ce1761b-3b24-457d-849e-d81d44cf98bc",
   "metadata": {},
   "outputs": [],
   "source": [
    "Interpreter = tflite.Interpreter(model_path=\"fashion_model.tflite\")\n",
    "Interpreter.allocate_tensors()\n",
    "\n",
    "input_index = Interpreter.get_input_details()[0]['index']\n",
    "output_index = Interpreter.get_output_details()[0]['index']"
   ]
  },
  {
   "cell_type": "code",
   "execution_count": null,
   "id": "5f5a8458-4537-435b-9544-1b2efa049be2",
   "metadata": {},
   "outputs": [],
   "source": [
    "preprocessor = create_preprocessor('xception', target_size=(299,299))\n",
    "\n",
    "url = 'http://bit.ly/mlbookcamp-pants'\n",
    "X = preprocessor.from_url(url)\n",
    "\n",
    "Interpreter.set_tensor(input_index, X)\n",
    "Interpreter.invoke()\n",
    "preds_1 = Interpreter.get_tensor(output_index)"
   ]
  },
  {
   "cell_type": "code",
   "execution_count": 10,
   "id": "f13d66c6-6525-45a3-b93a-828c7228f198",
   "metadata": {},
   "outputs": [
    {
     "data": {
      "text/plain": [
       "{'dress': -2.358752,\n",
       " 'hat': -5.624961,\n",
       " 'longsleeve': -2.6503067,\n",
       " 'outwear': -2.5378747,\n",
       " 'pants': 7.9502144,\n",
       " 'shirt': -1.6369162,\n",
       " 'shoes': -5.46738,\n",
       " 'shorts': 3.0304778,\n",
       " 'skirt': -3.0764189,\n",
       " 't-shirt': -5.025274}"
      ]
     },
     "execution_count": 10,
     "metadata": {},
     "output_type": "execute_result"
    }
   ],
   "source": [
    "classes = [\n",
    "    'dress',\n",
    "     'hat',\n",
    "     'longsleeve',\n",
    "     'outwear',\n",
    "     'pants',\n",
    "     'shirt',\n",
    "     'shoes',\n",
    "     'shorts',\n",
    "     'skirt',\n",
    "     't-shirt',]\n",
    "\n",
    "dict(zip(classes, preds_1[0]))"
   ]
  },
  {
   "cell_type": "code",
   "execution_count": null,
   "id": "d099ba4d-4ad1-442f-a865-1fc79f6d896c",
   "metadata": {},
   "outputs": [],
   "source": []
  },
  {
   "cell_type": "markdown",
   "id": "b2023ddb-1de1-461b-a887-96c81a1c694e",
   "metadata": {},
   "source": [
    "### another approach"
   ]
  },
  {
   "cell_type": "code",
   "execution_count": null,
   "id": "f95076f0-2e4f-4d52-903b-15f5d2d3f010",
   "metadata": {},
   "outputs": [],
   "source": [
    "import tensorflow.lite as tflite\n",
    "from PIL import Image\n",
    "import numpy as np"
   ]
  },
  {
   "cell_type": "code",
   "execution_count": null,
   "id": "65a95f20-f1f5-4e5a-9cdc-48043fb5dec6",
   "metadata": {},
   "outputs": [],
   "source": [
    "def preprocessing_input(x):\n",
    "    x /= 127.5\n",
    "    x -= 1.\n",
    "    return x"
   ]
  },
  {
   "cell_type": "code",
   "execution_count": null,
   "id": "0184a159-27e7-4292-afd5-c315025f9b94",
   "metadata": {},
   "outputs": [],
   "source": [
    "path = \"../test/shorts/78d2c5d2-b19d-422a-aff0-a6eb78291b4f.jpg\""
   ]
  },
  {
   "cell_type": "code",
   "execution_count": null,
   "id": "4410c3ea-4fa8-4958-8efc-35b33fe22c64",
   "metadata": {},
   "outputs": [],
   "source": [
    "with Image.open(path) as img:\n",
    "    img = img.resize((299,299), Image.NEAREST)"
   ]
  },
  {
   "cell_type": "code",
   "execution_count": null,
   "id": "735312ce-244c-4e88-b948-50be23ab1e77",
   "metadata": {},
   "outputs": [],
   "source": [
    "X = np.array(img, dtype = 'float32')\n",
    "X = np.array([X])\n",
    "\n",
    "X = preprocessing_input(X)"
   ]
  },
  {
   "cell_type": "code",
   "execution_count": null,
   "id": "2fde7284-ec5c-41cf-8e32-4c784a3de15a",
   "metadata": {},
   "outputs": [],
   "source": [
    "#loading model\n",
    "Interpreter = tflite.Interpreter(model_path=\"fashion_model.tflite\")\n",
    "#loading the weight from the model to memory\n",
    "Interpreter.allocate_tensors()\n",
    "\n",
    "input_index = Interpreter.get_input_details()[0]['index']\n",
    "output_index = Interpreter.get_output_details()[0]['index']"
   ]
  },
  {
   "cell_type": "code",
   "execution_count": null,
   "id": "1feb45c0-09ba-4aad-bf68-9c21be96f861",
   "metadata": {},
   "outputs": [],
   "source": [
    "Interpreter.set_tensor(input_index, X)\n",
    "Interpreter.invoke()\n",
    "preds_1 = Interpreter.get_tensor(output_index)"
   ]
  },
  {
   "cell_type": "code",
   "execution_count": null,
   "id": "a876b1b2-84d2-4c7e-88aa-add90d1c504d",
   "metadata": {},
   "outputs": [],
   "source": [
    "classes = [\n",
    "    'dress',\n",
    "     'hat',\n",
    "     'longsleeve',\n",
    "     'outwear',\n",
    "     'pants',\n",
    "     'shirt',\n",
    "     'shoes',\n",
    "     'shorts',\n",
    "     'skirt',\n",
    "     't-shirt',]\n",
    "\n",
    "dict(zip(classes, preds_1[0]))"
   ]
  },
  {
   "cell_type": "code",
   "execution_count": null,
   "id": "c6551e75-599c-43fa-ab61-56a739385c31",
   "metadata": {},
   "outputs": [],
   "source": []
  }
 ],
 "metadata": {
  "kernelspec": {
   "display_name": "Python 3 (ipykernel)",
   "language": "python",
   "name": "python3"
  },
  "language_info": {
   "codemirror_mode": {
    "name": "ipython",
    "version": 3
   },
   "file_extension": ".py",
   "mimetype": "text/x-python",
   "name": "python",
   "nbconvert_exporter": "python",
   "pygments_lexer": "ipython3",
   "version": "3.9.0"
  }
 },
 "nbformat": 4,
 "nbformat_minor": 5
}
